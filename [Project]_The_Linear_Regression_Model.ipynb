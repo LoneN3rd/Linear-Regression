{
  "nbformat": 4,
  "nbformat_minor": 0,
  "metadata": {
    "colab": {
      "name": "[Project]: The Linear Regression Model",
      "provenance": [],
      "collapsed_sections": [],
      "toc_visible": true
    },
    "kernelspec": {
      "name": "python3",
      "display_name": "Python 3"
    },
    "language_info": {
      "name": "python"
    }
  },
  "cells": [
    {
      "cell_type": "markdown",
      "metadata": {
        "id": "9znpyK4UbceY"
      },
      "source": [
        "# Project: The Linear Regression"
      ]
    },
    {
      "cell_type": "markdown",
      "metadata": {
        "id": "8JtBkHv4bdbL"
      },
      "source": [
        "### Introduction"
      ]
    },
    {
      "cell_type": "markdown",
      "source": [
        "In this project we'll work with housing data for the city of Ames, Iowa, United States from 2006 to 2010. You can read about the different columns in the data [here](https://s3.amazonaws.com/dq-content/307/data_description.txt).\n"
      ],
      "metadata": {
        "id": "NAC_cl9nf2la"
      }
    },
    {
      "cell_type": "markdown",
      "source": [
        "### Import libraries, load and explore data"
      ],
      "metadata": {
        "id": "3m-MnsDAftNr"
      }
    },
    {
      "cell_type": "code",
      "metadata": {
        "id": "VTUjKMIObXHq"
      },
      "source": [
        "# import libraries\n",
        "import pandas as pd\n",
        "import numpy as np\n",
        "import matplotlib.pyplot as plt\n",
        "import seaborn as sns\n",
        "from sklearn.linear_model import LinearRegression\n",
        "from sklearn.metrics import mean_squared_error, accuracy_score, confusion_matrix, classification_report\n",
        "from sklearn.model_selection import train_test_split, KFold"
      ],
      "execution_count": 215,
      "outputs": []
    },
    {
      "cell_type": "code",
      "source": [
        "df = pd.read_csv('https://bit.ly/3boZCX4)',sep= \"\\t\")"
      ],
      "metadata": {
        "id": "2d-LbwS9sRuT"
      },
      "execution_count": 216,
      "outputs": []
    },
    {
      "cell_type": "code",
      "source": [
        "df.shape"
      ],
      "metadata": {
        "colab": {
          "base_uri": "https://localhost:8080/"
        },
        "id": "Ek722csz5hKB",
        "outputId": "7b3711e3-66f2-431a-de85-ce7dd5e1f55f"
      },
      "execution_count": 217,
      "outputs": [
        {
          "output_type": "execute_result",
          "data": {
            "text/plain": [
              "(2930, 82)"
            ]
          },
          "metadata": {},
          "execution_count": 217
        }
      ]
    },
    {
      "cell_type": "code",
      "source": [
        "df.head(3)"
      ],
      "metadata": {
        "colab": {
          "base_uri": "https://localhost:8080/",
          "height": 277
        },
        "id": "QHx56IqlsdoV",
        "outputId": "4d2d7276-4ba4-475d-89e5-8256b4f2bf03"
      },
      "execution_count": 218,
      "outputs": [
        {
          "output_type": "execute_result",
          "data": {
            "text/plain": [
              "   Order        PID  MS SubClass MS Zoning  Lot Frontage  Lot Area Street  \\\n",
              "0      1  526301100           20        RL         141.0     31770   Pave   \n",
              "1      2  526350040           20        RH          80.0     11622   Pave   \n",
              "2      3  526351010           20        RL          81.0     14267   Pave   \n",
              "\n",
              "  Alley Lot Shape Land Contour Utilities Lot Config Land Slope Neighborhood  \\\n",
              "0   NaN       IR1          Lvl    AllPub     Corner        Gtl        NAmes   \n",
              "1   NaN       Reg          Lvl    AllPub     Inside        Gtl        NAmes   \n",
              "2   NaN       IR1          Lvl    AllPub     Corner        Gtl        NAmes   \n",
              "\n",
              "  Condition 1 Condition 2 Bldg Type House Style  Overall Qual  Overall Cond  \\\n",
              "0        Norm        Norm      1Fam      1Story             6             5   \n",
              "1       Feedr        Norm      1Fam      1Story             5             6   \n",
              "2        Norm        Norm      1Fam      1Story             6             6   \n",
              "\n",
              "   Year Built  Year Remod/Add Roof Style Roof Matl Exterior 1st Exterior 2nd  \\\n",
              "0        1960            1960        Hip   CompShg      BrkFace      Plywood   \n",
              "1        1961            1961      Gable   CompShg      VinylSd      VinylSd   \n",
              "2        1958            1958        Hip   CompShg      Wd Sdng      Wd Sdng   \n",
              "\n",
              "  Mas Vnr Type  Mas Vnr Area Exter Qual Exter Cond Foundation Bsmt Qual  \\\n",
              "0        Stone         112.0         TA         TA     CBlock        TA   \n",
              "1         None           0.0         TA         TA     CBlock        TA   \n",
              "2      BrkFace         108.0         TA         TA     CBlock        TA   \n",
              "\n",
              "  Bsmt Cond Bsmt Exposure BsmtFin Type 1  BsmtFin SF 1 BsmtFin Type 2  \\\n",
              "0        Gd            Gd            BLQ         639.0            Unf   \n",
              "1        TA            No            Rec         468.0            LwQ   \n",
              "2        TA            No            ALQ         923.0            Unf   \n",
              "\n",
              "   BsmtFin SF 2  Bsmt Unf SF  Total Bsmt SF Heating Heating QC Central Air  \\\n",
              "0           0.0        441.0         1080.0    GasA         Fa           Y   \n",
              "1         144.0        270.0          882.0    GasA         TA           Y   \n",
              "2           0.0        406.0         1329.0    GasA         TA           Y   \n",
              "\n",
              "  Electrical  1st Flr SF  2nd Flr SF  Low Qual Fin SF  Gr Liv Area  \\\n",
              "0      SBrkr        1656           0                0         1656   \n",
              "1      SBrkr         896           0                0          896   \n",
              "2      SBrkr        1329           0                0         1329   \n",
              "\n",
              "   Bsmt Full Bath  Bsmt Half Bath  Full Bath  Half Bath  Bedroom AbvGr  \\\n",
              "0             1.0             0.0          1          0              3   \n",
              "1             0.0             0.0          1          0              2   \n",
              "2             0.0             0.0          1          1              3   \n",
              "\n",
              "   Kitchen AbvGr Kitchen Qual  TotRms AbvGrd Functional  Fireplaces  \\\n",
              "0              1           TA              7        Typ           2   \n",
              "1              1           TA              5        Typ           0   \n",
              "2              1           Gd              6        Typ           0   \n",
              "\n",
              "  Fireplace Qu Garage Type  Garage Yr Blt Garage Finish  Garage Cars  \\\n",
              "0           Gd      Attchd         1960.0           Fin          2.0   \n",
              "1          NaN      Attchd         1961.0           Unf          1.0   \n",
              "2          NaN      Attchd         1958.0           Unf          1.0   \n",
              "\n",
              "   Garage Area Garage Qual Garage Cond Paved Drive  Wood Deck SF  \\\n",
              "0        528.0          TA          TA           P           210   \n",
              "1        730.0          TA          TA           Y           140   \n",
              "2        312.0          TA          TA           Y           393   \n",
              "\n",
              "   Open Porch SF  Enclosed Porch  3Ssn Porch  Screen Porch  Pool Area Pool QC  \\\n",
              "0             62               0           0             0          0     NaN   \n",
              "1              0               0           0           120          0     NaN   \n",
              "2             36               0           0             0          0     NaN   \n",
              "\n",
              "   Fence Misc Feature  Misc Val  Mo Sold  Yr Sold Sale Type Sale Condition  \\\n",
              "0    NaN          NaN         0        5     2010       WD          Normal   \n",
              "1  MnPrv          NaN         0        6     2010       WD          Normal   \n",
              "2    NaN         Gar2     12500        6     2010       WD          Normal   \n",
              "\n",
              "   SalePrice  \n",
              "0     215000  \n",
              "1     105000  \n",
              "2     172000  "
            ],
            "text/html": [
              "\n",
              "  <div id=\"df-fb838bb2-2523-4c4a-9400-2173e35a8e8f\">\n",
              "    <div class=\"colab-df-container\">\n",
              "      <div>\n",
              "<style scoped>\n",
              "    .dataframe tbody tr th:only-of-type {\n",
              "        vertical-align: middle;\n",
              "    }\n",
              "\n",
              "    .dataframe tbody tr th {\n",
              "        vertical-align: top;\n",
              "    }\n",
              "\n",
              "    .dataframe thead th {\n",
              "        text-align: right;\n",
              "    }\n",
              "</style>\n",
              "<table border=\"1\" class=\"dataframe\">\n",
              "  <thead>\n",
              "    <tr style=\"text-align: right;\">\n",
              "      <th></th>\n",
              "      <th>Order</th>\n",
              "      <th>PID</th>\n",
              "      <th>MS SubClass</th>\n",
              "      <th>MS Zoning</th>\n",
              "      <th>Lot Frontage</th>\n",
              "      <th>Lot Area</th>\n",
              "      <th>Street</th>\n",
              "      <th>Alley</th>\n",
              "      <th>Lot Shape</th>\n",
              "      <th>Land Contour</th>\n",
              "      <th>Utilities</th>\n",
              "      <th>Lot Config</th>\n",
              "      <th>Land Slope</th>\n",
              "      <th>Neighborhood</th>\n",
              "      <th>Condition 1</th>\n",
              "      <th>Condition 2</th>\n",
              "      <th>Bldg Type</th>\n",
              "      <th>House Style</th>\n",
              "      <th>Overall Qual</th>\n",
              "      <th>Overall Cond</th>\n",
              "      <th>Year Built</th>\n",
              "      <th>Year Remod/Add</th>\n",
              "      <th>Roof Style</th>\n",
              "      <th>Roof Matl</th>\n",
              "      <th>Exterior 1st</th>\n",
              "      <th>Exterior 2nd</th>\n",
              "      <th>Mas Vnr Type</th>\n",
              "      <th>Mas Vnr Area</th>\n",
              "      <th>Exter Qual</th>\n",
              "      <th>Exter Cond</th>\n",
              "      <th>Foundation</th>\n",
              "      <th>Bsmt Qual</th>\n",
              "      <th>Bsmt Cond</th>\n",
              "      <th>Bsmt Exposure</th>\n",
              "      <th>BsmtFin Type 1</th>\n",
              "      <th>BsmtFin SF 1</th>\n",
              "      <th>BsmtFin Type 2</th>\n",
              "      <th>BsmtFin SF 2</th>\n",
              "      <th>Bsmt Unf SF</th>\n",
              "      <th>Total Bsmt SF</th>\n",
              "      <th>Heating</th>\n",
              "      <th>Heating QC</th>\n",
              "      <th>Central Air</th>\n",
              "      <th>Electrical</th>\n",
              "      <th>1st Flr SF</th>\n",
              "      <th>2nd Flr SF</th>\n",
              "      <th>Low Qual Fin SF</th>\n",
              "      <th>Gr Liv Area</th>\n",
              "      <th>Bsmt Full Bath</th>\n",
              "      <th>Bsmt Half Bath</th>\n",
              "      <th>Full Bath</th>\n",
              "      <th>Half Bath</th>\n",
              "      <th>Bedroom AbvGr</th>\n",
              "      <th>Kitchen AbvGr</th>\n",
              "      <th>Kitchen Qual</th>\n",
              "      <th>TotRms AbvGrd</th>\n",
              "      <th>Functional</th>\n",
              "      <th>Fireplaces</th>\n",
              "      <th>Fireplace Qu</th>\n",
              "      <th>Garage Type</th>\n",
              "      <th>Garage Yr Blt</th>\n",
              "      <th>Garage Finish</th>\n",
              "      <th>Garage Cars</th>\n",
              "      <th>Garage Area</th>\n",
              "      <th>Garage Qual</th>\n",
              "      <th>Garage Cond</th>\n",
              "      <th>Paved Drive</th>\n",
              "      <th>Wood Deck SF</th>\n",
              "      <th>Open Porch SF</th>\n",
              "      <th>Enclosed Porch</th>\n",
              "      <th>3Ssn Porch</th>\n",
              "      <th>Screen Porch</th>\n",
              "      <th>Pool Area</th>\n",
              "      <th>Pool QC</th>\n",
              "      <th>Fence</th>\n",
              "      <th>Misc Feature</th>\n",
              "      <th>Misc Val</th>\n",
              "      <th>Mo Sold</th>\n",
              "      <th>Yr Sold</th>\n",
              "      <th>Sale Type</th>\n",
              "      <th>Sale Condition</th>\n",
              "      <th>SalePrice</th>\n",
              "    </tr>\n",
              "  </thead>\n",
              "  <tbody>\n",
              "    <tr>\n",
              "      <th>0</th>\n",
              "      <td>1</td>\n",
              "      <td>526301100</td>\n",
              "      <td>20</td>\n",
              "      <td>RL</td>\n",
              "      <td>141.0</td>\n",
              "      <td>31770</td>\n",
              "      <td>Pave</td>\n",
              "      <td>NaN</td>\n",
              "      <td>IR1</td>\n",
              "      <td>Lvl</td>\n",
              "      <td>AllPub</td>\n",
              "      <td>Corner</td>\n",
              "      <td>Gtl</td>\n",
              "      <td>NAmes</td>\n",
              "      <td>Norm</td>\n",
              "      <td>Norm</td>\n",
              "      <td>1Fam</td>\n",
              "      <td>1Story</td>\n",
              "      <td>6</td>\n",
              "      <td>5</td>\n",
              "      <td>1960</td>\n",
              "      <td>1960</td>\n",
              "      <td>Hip</td>\n",
              "      <td>CompShg</td>\n",
              "      <td>BrkFace</td>\n",
              "      <td>Plywood</td>\n",
              "      <td>Stone</td>\n",
              "      <td>112.0</td>\n",
              "      <td>TA</td>\n",
              "      <td>TA</td>\n",
              "      <td>CBlock</td>\n",
              "      <td>TA</td>\n",
              "      <td>Gd</td>\n",
              "      <td>Gd</td>\n",
              "      <td>BLQ</td>\n",
              "      <td>639.0</td>\n",
              "      <td>Unf</td>\n",
              "      <td>0.0</td>\n",
              "      <td>441.0</td>\n",
              "      <td>1080.0</td>\n",
              "      <td>GasA</td>\n",
              "      <td>Fa</td>\n",
              "      <td>Y</td>\n",
              "      <td>SBrkr</td>\n",
              "      <td>1656</td>\n",
              "      <td>0</td>\n",
              "      <td>0</td>\n",
              "      <td>1656</td>\n",
              "      <td>1.0</td>\n",
              "      <td>0.0</td>\n",
              "      <td>1</td>\n",
              "      <td>0</td>\n",
              "      <td>3</td>\n",
              "      <td>1</td>\n",
              "      <td>TA</td>\n",
              "      <td>7</td>\n",
              "      <td>Typ</td>\n",
              "      <td>2</td>\n",
              "      <td>Gd</td>\n",
              "      <td>Attchd</td>\n",
              "      <td>1960.0</td>\n",
              "      <td>Fin</td>\n",
              "      <td>2.0</td>\n",
              "      <td>528.0</td>\n",
              "      <td>TA</td>\n",
              "      <td>TA</td>\n",
              "      <td>P</td>\n",
              "      <td>210</td>\n",
              "      <td>62</td>\n",
              "      <td>0</td>\n",
              "      <td>0</td>\n",
              "      <td>0</td>\n",
              "      <td>0</td>\n",
              "      <td>NaN</td>\n",
              "      <td>NaN</td>\n",
              "      <td>NaN</td>\n",
              "      <td>0</td>\n",
              "      <td>5</td>\n",
              "      <td>2010</td>\n",
              "      <td>WD</td>\n",
              "      <td>Normal</td>\n",
              "      <td>215000</td>\n",
              "    </tr>\n",
              "    <tr>\n",
              "      <th>1</th>\n",
              "      <td>2</td>\n",
              "      <td>526350040</td>\n",
              "      <td>20</td>\n",
              "      <td>RH</td>\n",
              "      <td>80.0</td>\n",
              "      <td>11622</td>\n",
              "      <td>Pave</td>\n",
              "      <td>NaN</td>\n",
              "      <td>Reg</td>\n",
              "      <td>Lvl</td>\n",
              "      <td>AllPub</td>\n",
              "      <td>Inside</td>\n",
              "      <td>Gtl</td>\n",
              "      <td>NAmes</td>\n",
              "      <td>Feedr</td>\n",
              "      <td>Norm</td>\n",
              "      <td>1Fam</td>\n",
              "      <td>1Story</td>\n",
              "      <td>5</td>\n",
              "      <td>6</td>\n",
              "      <td>1961</td>\n",
              "      <td>1961</td>\n",
              "      <td>Gable</td>\n",
              "      <td>CompShg</td>\n",
              "      <td>VinylSd</td>\n",
              "      <td>VinylSd</td>\n",
              "      <td>None</td>\n",
              "      <td>0.0</td>\n",
              "      <td>TA</td>\n",
              "      <td>TA</td>\n",
              "      <td>CBlock</td>\n",
              "      <td>TA</td>\n",
              "      <td>TA</td>\n",
              "      <td>No</td>\n",
              "      <td>Rec</td>\n",
              "      <td>468.0</td>\n",
              "      <td>LwQ</td>\n",
              "      <td>144.0</td>\n",
              "      <td>270.0</td>\n",
              "      <td>882.0</td>\n",
              "      <td>GasA</td>\n",
              "      <td>TA</td>\n",
              "      <td>Y</td>\n",
              "      <td>SBrkr</td>\n",
              "      <td>896</td>\n",
              "      <td>0</td>\n",
              "      <td>0</td>\n",
              "      <td>896</td>\n",
              "      <td>0.0</td>\n",
              "      <td>0.0</td>\n",
              "      <td>1</td>\n",
              "      <td>0</td>\n",
              "      <td>2</td>\n",
              "      <td>1</td>\n",
              "      <td>TA</td>\n",
              "      <td>5</td>\n",
              "      <td>Typ</td>\n",
              "      <td>0</td>\n",
              "      <td>NaN</td>\n",
              "      <td>Attchd</td>\n",
              "      <td>1961.0</td>\n",
              "      <td>Unf</td>\n",
              "      <td>1.0</td>\n",
              "      <td>730.0</td>\n",
              "      <td>TA</td>\n",
              "      <td>TA</td>\n",
              "      <td>Y</td>\n",
              "      <td>140</td>\n",
              "      <td>0</td>\n",
              "      <td>0</td>\n",
              "      <td>0</td>\n",
              "      <td>120</td>\n",
              "      <td>0</td>\n",
              "      <td>NaN</td>\n",
              "      <td>MnPrv</td>\n",
              "      <td>NaN</td>\n",
              "      <td>0</td>\n",
              "      <td>6</td>\n",
              "      <td>2010</td>\n",
              "      <td>WD</td>\n",
              "      <td>Normal</td>\n",
              "      <td>105000</td>\n",
              "    </tr>\n",
              "    <tr>\n",
              "      <th>2</th>\n",
              "      <td>3</td>\n",
              "      <td>526351010</td>\n",
              "      <td>20</td>\n",
              "      <td>RL</td>\n",
              "      <td>81.0</td>\n",
              "      <td>14267</td>\n",
              "      <td>Pave</td>\n",
              "      <td>NaN</td>\n",
              "      <td>IR1</td>\n",
              "      <td>Lvl</td>\n",
              "      <td>AllPub</td>\n",
              "      <td>Corner</td>\n",
              "      <td>Gtl</td>\n",
              "      <td>NAmes</td>\n",
              "      <td>Norm</td>\n",
              "      <td>Norm</td>\n",
              "      <td>1Fam</td>\n",
              "      <td>1Story</td>\n",
              "      <td>6</td>\n",
              "      <td>6</td>\n",
              "      <td>1958</td>\n",
              "      <td>1958</td>\n",
              "      <td>Hip</td>\n",
              "      <td>CompShg</td>\n",
              "      <td>Wd Sdng</td>\n",
              "      <td>Wd Sdng</td>\n",
              "      <td>BrkFace</td>\n",
              "      <td>108.0</td>\n",
              "      <td>TA</td>\n",
              "      <td>TA</td>\n",
              "      <td>CBlock</td>\n",
              "      <td>TA</td>\n",
              "      <td>TA</td>\n",
              "      <td>No</td>\n",
              "      <td>ALQ</td>\n",
              "      <td>923.0</td>\n",
              "      <td>Unf</td>\n",
              "      <td>0.0</td>\n",
              "      <td>406.0</td>\n",
              "      <td>1329.0</td>\n",
              "      <td>GasA</td>\n",
              "      <td>TA</td>\n",
              "      <td>Y</td>\n",
              "      <td>SBrkr</td>\n",
              "      <td>1329</td>\n",
              "      <td>0</td>\n",
              "      <td>0</td>\n",
              "      <td>1329</td>\n",
              "      <td>0.0</td>\n",
              "      <td>0.0</td>\n",
              "      <td>1</td>\n",
              "      <td>1</td>\n",
              "      <td>3</td>\n",
              "      <td>1</td>\n",
              "      <td>Gd</td>\n",
              "      <td>6</td>\n",
              "      <td>Typ</td>\n",
              "      <td>0</td>\n",
              "      <td>NaN</td>\n",
              "      <td>Attchd</td>\n",
              "      <td>1958.0</td>\n",
              "      <td>Unf</td>\n",
              "      <td>1.0</td>\n",
              "      <td>312.0</td>\n",
              "      <td>TA</td>\n",
              "      <td>TA</td>\n",
              "      <td>Y</td>\n",
              "      <td>393</td>\n",
              "      <td>36</td>\n",
              "      <td>0</td>\n",
              "      <td>0</td>\n",
              "      <td>0</td>\n",
              "      <td>0</td>\n",
              "      <td>NaN</td>\n",
              "      <td>NaN</td>\n",
              "      <td>Gar2</td>\n",
              "      <td>12500</td>\n",
              "      <td>6</td>\n",
              "      <td>2010</td>\n",
              "      <td>WD</td>\n",
              "      <td>Normal</td>\n",
              "      <td>172000</td>\n",
              "    </tr>\n",
              "  </tbody>\n",
              "</table>\n",
              "</div>\n",
              "      <button class=\"colab-df-convert\" onclick=\"convertToInteractive('df-fb838bb2-2523-4c4a-9400-2173e35a8e8f')\"\n",
              "              title=\"Convert this dataframe to an interactive table.\"\n",
              "              style=\"display:none;\">\n",
              "        \n",
              "  <svg xmlns=\"http://www.w3.org/2000/svg\" height=\"24px\"viewBox=\"0 0 24 24\"\n",
              "       width=\"24px\">\n",
              "    <path d=\"M0 0h24v24H0V0z\" fill=\"none\"/>\n",
              "    <path d=\"M18.56 5.44l.94 2.06.94-2.06 2.06-.94-2.06-.94-.94-2.06-.94 2.06-2.06.94zm-11 1L8.5 8.5l.94-2.06 2.06-.94-2.06-.94L8.5 2.5l-.94 2.06-2.06.94zm10 10l.94 2.06.94-2.06 2.06-.94-2.06-.94-.94-2.06-.94 2.06-2.06.94z\"/><path d=\"M17.41 7.96l-1.37-1.37c-.4-.4-.92-.59-1.43-.59-.52 0-1.04.2-1.43.59L10.3 9.45l-7.72 7.72c-.78.78-.78 2.05 0 2.83L4 21.41c.39.39.9.59 1.41.59.51 0 1.02-.2 1.41-.59l7.78-7.78 2.81-2.81c.8-.78.8-2.07 0-2.86zM5.41 20L4 18.59l7.72-7.72 1.47 1.35L5.41 20z\"/>\n",
              "  </svg>\n",
              "      </button>\n",
              "      \n",
              "  <style>\n",
              "    .colab-df-container {\n",
              "      display:flex;\n",
              "      flex-wrap:wrap;\n",
              "      gap: 12px;\n",
              "    }\n",
              "\n",
              "    .colab-df-convert {\n",
              "      background-color: #E8F0FE;\n",
              "      border: none;\n",
              "      border-radius: 50%;\n",
              "      cursor: pointer;\n",
              "      display: none;\n",
              "      fill: #1967D2;\n",
              "      height: 32px;\n",
              "      padding: 0 0 0 0;\n",
              "      width: 32px;\n",
              "    }\n",
              "\n",
              "    .colab-df-convert:hover {\n",
              "      background-color: #E2EBFA;\n",
              "      box-shadow: 0px 1px 2px rgba(60, 64, 67, 0.3), 0px 1px 3px 1px rgba(60, 64, 67, 0.15);\n",
              "      fill: #174EA6;\n",
              "    }\n",
              "\n",
              "    [theme=dark] .colab-df-convert {\n",
              "      background-color: #3B4455;\n",
              "      fill: #D2E3FC;\n",
              "    }\n",
              "\n",
              "    [theme=dark] .colab-df-convert:hover {\n",
              "      background-color: #434B5C;\n",
              "      box-shadow: 0px 1px 3px 1px rgba(0, 0, 0, 0.15);\n",
              "      filter: drop-shadow(0px 1px 2px rgba(0, 0, 0, 0.3));\n",
              "      fill: #FFFFFF;\n",
              "    }\n",
              "  </style>\n",
              "\n",
              "      <script>\n",
              "        const buttonEl =\n",
              "          document.querySelector('#df-fb838bb2-2523-4c4a-9400-2173e35a8e8f button.colab-df-convert');\n",
              "        buttonEl.style.display =\n",
              "          google.colab.kernel.accessAllowed ? 'block' : 'none';\n",
              "\n",
              "        async function convertToInteractive(key) {\n",
              "          const element = document.querySelector('#df-fb838bb2-2523-4c4a-9400-2173e35a8e8f');\n",
              "          const dataTable =\n",
              "            await google.colab.kernel.invokeFunction('convertToInteractive',\n",
              "                                                     [key], {});\n",
              "          if (!dataTable) return;\n",
              "\n",
              "          const docLinkHtml = 'Like what you see? Visit the ' +\n",
              "            '<a target=\"_blank\" href=https://colab.research.google.com/notebooks/data_table.ipynb>data table notebook</a>'\n",
              "            + ' to learn more about interactive tables.';\n",
              "          element.innerHTML = '';\n",
              "          dataTable['output_type'] = 'display_data';\n",
              "          await google.colab.output.renderOutput(dataTable, element);\n",
              "          const docLink = document.createElement('div');\n",
              "          docLink.innerHTML = docLinkHtml;\n",
              "          element.appendChild(docLink);\n",
              "        }\n",
              "      </script>\n",
              "    </div>\n",
              "  </div>\n",
              "  "
            ]
          },
          "metadata": {},
          "execution_count": 218
        }
      ]
    },
    {
      "cell_type": "markdown",
      "metadata": {
        "id": "aUyr-Mz0c-DG"
      },
      "source": [
        "## 2. Feature Engineering"
      ]
    },
    {
      "cell_type": "markdown",
      "metadata": {
        "id": "FfxdsJbvc_jo"
      },
      "source": [
        "Let's now start removing features with many missing values, diving deeper into potential categorical features, and transforming text and numerical columns. We'll update `transform_features()` so that any column from the data frame with more than 25% (or another cutoff value) missing values is dropped. For numerical columns that contain less than 5% missing values, let's fill in the missing values using the most popular value for that column. We'll also need to remove any columns that leak information about the sale (e.g. like the year the sale happened). In general, the goal of this function is to:\n",
        "\n",
        "* remove features that we don't want to use in the model, just based on the number of missing values or data leakage.\n",
        "* transform features into the proper format (numerical to categorical, scaling numerical, filling in missing values, etc).\n",
        "* create new features by combining other features.\n",
        "\n",
        "Next, we need to get more familiar with the remaining columns by reading the data documentation for each column, determining what transformations are necessary (if any), and more. Succeeding in predictive modeling (and competitions like Kaggle) is highly dependent on the quality of features the model has. Libraries like scikit-learn have made it quick and easy to simply try and tweak many different models, but cleaning, selecting, and transforming features are still more of an art that requires a bit of human ingenuity."
      ]
    },
    {
      "cell_type": "code",
      "source": [
        "def transform_features(df_):\n",
        "  nulls = df_.isnull().sum() / len(df_)\n",
        "\n",
        "  # drop columns with more than 25% null values\n",
        "  more_than_25pct_nulls = nulls[nulls > 0.25].index\n",
        "  df_.drop(more_than_25pct_nulls, axis=1, inplace=True)\n",
        "\n",
        "  ''' \n",
        "      handle nulls in numeric columns\n",
        "      replace nulls with mode for numeric columns with less than 5% of null values\n",
        "      replace nulls with zero for numeric columns with less 5% or more of null values\n",
        "  '''\n",
        "  numeric_cols = df_.select_dtypes(include = ['integer', 'float']).columns\n",
        "  numeric_nulls = df_[numeric_cols].isnull().sum() / len(df)\n",
        "  less_than_5pct_nulls = numeric_nulls[numeric_nulls < 0.05].index\n",
        "  more_than_5pct_nulls = numeric_nulls[numeric_nulls >= 0.05].index\n",
        "\n",
        "  # get mode for numeric columns with less than 5% of null values\n",
        "  mode = df_[less_than_5pct_nulls].mode().iloc[0]\n",
        "\n",
        "  # replace nulls with mode for numeric columns with less than 5% of null values\n",
        "  df_[less_than_5pct_nulls] = df_[less_than_5pct_nulls].fillna(value=mode)\n",
        "\n",
        "  # replace nulls with zero for numeric columns with less 5% or more of null values\n",
        "  df_[more_than_5pct_nulls] = df_[more_than_5pct_nulls].fillna(value=0)\n",
        "\n",
        "  ''' handle nulls in nominal columns '''\n",
        "  nominal_cols = df_.select_dtypes(exclude = ['integer', 'float']).columns\n",
        "  df_[nominal_cols] = df_[nominal_cols].fillna(value='Unknown')\n",
        "\n",
        "  ''' create new features'''\n",
        "  years_until_remod = df_['Year Built'] - df['Year Remod/Add'] # will be zero if remodel date  is the same as construction date\n",
        "  df_['Years Until Remod'] = years_until_remod\n",
        "\n",
        "  # drop any columns that leak information about the sale, that we don't want to use in the model\n",
        "  df_.drop(['PID', 'Order', 'Year Built', 'Year Remod/Add'], axis = 1)\n",
        "\n",
        "  return df_"
      ],
      "metadata": {
        "id": "lL_eYBa-e_dy"
      },
      "execution_count": 219,
      "outputs": []
    },
    {
      "cell_type": "markdown",
      "metadata": {
        "id": "c4fXZPVfd4IY"
      },
      "source": [
        "## 3. Feature Selection"
      ]
    },
    {
      "cell_type": "markdown",
      "metadata": {
        "id": "ZnGMP3LYd8fZ"
      },
      "source": [
        "Now that we have cleaned and transformed a lot of the features in the data set, it's time to move on to feature selection for numerical features. We will update the logic for the select_features() function. This function should take in the new, modified train and test data frames that were returned from `transform_features()`."
      ]
    },
    {
      "cell_type": "code",
      "source": [
        "def select_features(df_):\n",
        "  # generate a correlation heatmap matrix of the numerical features\n",
        "  corr_coeffs = df_.select_dtypes(include = ['integer', 'float']).corr()['SalePrice'].abs().sort_values(ascending = False)\n",
        "\n",
        "  # drop columns with correlation coefficient < 0.3\n",
        "  df_ = df_.drop(corr_coeffs[corr_coeffs < 0.3].index, axis=1)\n",
        "\n",
        "  nominal_cols = df_.select_dtypes(exclude = ['integer', 'float']).columns\n",
        "\n",
        "  # drop columns with more than 10 unique values\n",
        "  unique_values_count = df_[nominal_cols].apply(lambda col: len(col.value_counts()))\n",
        "  cols_to_drop = unique_values_count[unique_values_count > 10].index\n",
        "  cols_to_keep = unique_values_count[unique_values_count <= 10].index\n",
        "  df_ = df_.drop(cols_to_drop, axis=1)\n",
        "\n",
        "  # One hot encoding\n",
        "  df_ = pd.get_dummies(df_, columns=cols_to_keep, drop_first=True)\n",
        "\n",
        "  return df_"
      ],
      "metadata": {
        "id": "ifA3rN88vFxl"
      },
      "execution_count": 220,
      "outputs": []
    },
    {
      "cell_type": "markdown",
      "metadata": {
        "id": "vlvUyZrjeo97"
      },
      "source": [
        "## 4. Build and Train"
      ]
    },
    {
      "cell_type": "markdown",
      "metadata": {
        "id": "iYllZ0xBetTh"
      },
      "source": [
        "Now for the final part of the pipeline, training and testing. When iterating on different features, using simple validation is a good idea. Let's add a parameter named `k` that controls the type of cross validation that occurs.\n",
        "\n",
        "When `k` equals to `0`:\n",
        "\n",
        "* Select the first 1460 rows and assign to train\n",
        "* Select the remaining rows and assign to test\n",
        "* Train on train and test on test\n",
        "* Compute and return the RMSE\n",
        "\n",
        "When `k` equals to `1`, perform simple cross validation:\n",
        "* Shuffle the ordering of the rows in the data frame\n",
        "* Select the first 1460 rows and assign to fold_one\n",
        "* Select the remaining rows and assign to fold_two\n",
        "* Train on fold_one and test on fold_two\n",
        "* Train on fold_two and test on fold_one\n",
        "* Compute and return the average RMSE\n",
        "\n",
        "When `k` is greater than `1`, implement k-fold cross validation using `k` folds and return the average `RMSE` "
      ]
    },
    {
      "cell_type": "code",
      "source": [
        "def train_and_test(passed_df, k=0):\n",
        "\n",
        "  target = 'SalePrice'\n",
        "\n",
        "  if k == 0:\n",
        "    training_set = passed_df[:1460]\n",
        "    testing_set = passed_df[1460:]\n",
        "    features = training_set.columns.drop('SalePrice')\n",
        "\n",
        "    lr = LinearRegression()\n",
        "    lr.fit(training_set[features], training_set[target])\n",
        "    predictions = lr.predict(testing_set[features])\n",
        "\n",
        "    return np.sqrt(mean_squared_error(testing_set[target], predictions))\n",
        "\n",
        "  if k == 1:\n",
        "    lr = LinearRegression()\n",
        "    shuffled_df = passed_df.sample(frac=1, )\n",
        "    \n",
        "    fold_one = shuffled_df[:1460]\n",
        "    fold_one_x = fold_one.drop(['SalePrice'], axis=1)\n",
        "    fold_one_y = fold_one['SalePrice']\n",
        "    fold_one_x_train, fold_one_x_test, fold_one_y_train, fold_one_y_test = train_test_split(fold_one_x, fold_one_y, test_size = 0.3, random_state = 0)\n",
        "\n",
        "    lr.fit(fold_one_x_train, fold_one_y_train)\n",
        "    fold_one_prediction = lr.predict(fold_one_x_test)\n",
        "\n",
        "    fold_one_rmse = np.sqrt(mean_squared_error(fold_one_y_test, fold_one_prediction))\n",
        "\n",
        "    fold_two = shuffled_df[1460:]\n",
        "    fold_two_x = fold_two.drop(['SalePrice'], axis=1)\n",
        "    fold_two_y = fold_two['SalePrice']\n",
        "    fold_two_x_train, fold_two_x_test, fold_two_y_train, fold_two_y_test = train_test_split(fold_two_x, fold_two_y, test_size = 0.3, random_state = 0)\n",
        "\n",
        "    lr.fit(fold_two_x_train, fold_two_y_train)\n",
        "    fold_two_prediction = lr.predict(fold_two_x_test)\n",
        "\n",
        "    fold_two_rmse = np.sqrt(mean_squared_error(fold_two_y_test, fold_two_prediction))\n",
        "\n",
        "    avg_rmse = (fold_one_rmse + fold_two_rmse) / 2 \n",
        "\n",
        "    return avg_rmse\n",
        "\n",
        "  if k > 1:\n",
        "    lr = LinearRegression()\n",
        "    kfold = KFold(n_splits=k, shuffle=True)\n",
        "    rmse_list = []\n",
        "\n",
        "    for train_index, test_index, in kfold.split(passed_df):\n",
        "        features = passed_df.columns.drop(target)\n",
        "        train = passed_df.iloc[train_index]\n",
        "        test = passed_df.iloc[test_index]\n",
        "\n",
        "        lr.fit(train[features], train[target])\n",
        "        predictions = lr.predict(test[features])\n",
        "\n",
        "        rmse = np.sqrt(mean_squared_error(test[target], predictions))\n",
        "        rmse_list.append(rmse)\n",
        "\n",
        "    return np.mean(rmse_list)"
      ],
      "metadata": {
        "id": "seXAd21st-Bw"
      },
      "execution_count": 221,
      "outputs": []
    },
    {
      "cell_type": "markdown",
      "source": [
        "## 5. Test"
      ],
      "metadata": {
        "id": "lWD9VeoXVy6J"
      }
    },
    {
      "cell_type": "code",
      "source": [
        "transformed_df = transform_features(df)\n",
        "final_df = select_features(transformed_df)"
      ],
      "metadata": {
        "id": "E388fnOkKjLb"
      },
      "execution_count": 222,
      "outputs": []
    },
    {
      "cell_type": "code",
      "source": [
        "train_and_test(final_df, k=0)"
      ],
      "metadata": {
        "colab": {
          "base_uri": "https://localhost:8080/"
        },
        "id": "jEzQSaHL849R",
        "outputId": "da4049bb-53ea-48f0-9842-62c2f905396e"
      },
      "execution_count": 223,
      "outputs": [
        {
          "output_type": "execute_result",
          "data": {
            "text/plain": [
              "38594.42344493608"
            ]
          },
          "metadata": {},
          "execution_count": 223
        }
      ]
    },
    {
      "cell_type": "code",
      "source": [
        "train_and_test(final_df, k=1)"
      ],
      "metadata": {
        "colab": {
          "base_uri": "https://localhost:8080/"
        },
        "id": "-AEM5-vPVDwv",
        "outputId": "8f5d16d8-5004-4feb-f808-0fbc6084f7a7"
      },
      "execution_count": 224,
      "outputs": [
        {
          "output_type": "execute_result",
          "data": {
            "text/plain": [
              "32550.035468419246"
            ]
          },
          "metadata": {},
          "execution_count": 224
        }
      ]
    },
    {
      "cell_type": "code",
      "source": [
        "train_and_test(final_df, k=3)"
      ],
      "metadata": {
        "colab": {
          "base_uri": "https://localhost:8080/"
        },
        "id": "wvsg5lfcVFYP",
        "outputId": "d0165774-0c31-4c6a-b336-26cbe2846f6c"
      },
      "execution_count": 227,
      "outputs": [
        {
          "output_type": "execute_result",
          "data": {
            "text/plain": [
              "35069.19689767552"
            ]
          },
          "metadata": {},
          "execution_count": 227
        }
      ]
    },
    {
      "cell_type": "markdown",
      "metadata": {
        "id": "NBRXPk5wflpP"
      },
      "source": [
        "## 5. Next Steps"
      ]
    },
    {
      "cell_type": "markdown",
      "metadata": {
        "id": "9JV5JSMQfp_o"
      },
      "source": [
        "Potenial next steps that we can take:\n",
        "\n",
        "1. Continue iteration on feature engineering:\n",
        "* Research some other approaches to feature engineering online around housing data.\n",
        "* Visit the Kaggle kernels [page](https://www.kaggle.com/c/house-prices-advanced-regression-techniques/kernels) page for this dataset to see approaches others took.\n",
        "\n",
        "2. Improve your feature selection:\n",
        "* Research ways of doing feature selection better with categorical columns."
      ]
    }
  ]
}